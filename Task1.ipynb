{
 "cells": [
  {
   "cell_type": "code",
   "execution_count": 1,
   "id": "b853b764-a124-48c5-98da-f7a455e2f024",
   "metadata": {},
   "outputs": [
    {
     "name": "stdin",
     "output_type": "stream",
     "text": [
      "You:  hello\n"
     ]
    },
    {
     "name": "stdout",
     "output_type": "stream",
     "text": [
      "Chatbot: Hello! I am your chatbot, how can I help you today?\n"
     ]
    },
    {
     "name": "stdin",
     "output_type": "stream",
     "text": [
      "You:  how are you\n"
     ]
    },
    {
     "name": "stdout",
     "output_type": "stream",
     "text": [
      "Chatbot: I'm just a chatbot.\n"
     ]
    },
    {
     "name": "stdin",
     "output_type": "stream",
     "text": [
      "You:  good ?\n"
     ]
    },
    {
     "name": "stdout",
     "output_type": "stream",
     "text": [
      "Chatbot: I'm sorry, can you please reformulate your speech?\n"
     ]
    },
    {
     "name": "stdin",
     "output_type": "stream",
     "text": [
      "You:  exit\n"
     ]
    },
    {
     "name": "stdout",
     "output_type": "stream",
     "text": [
      "Chatbot: Goodbye!\n"
     ]
    }
   ],
   "source": [
    "def simple_chatbot(user_input):\n",
    "    user_input = user_input.lower()\n",
    "    greetings = ['hi', 'hello', 'good morning', 'greetings']\n",
    "    farewells = ['bye', 'see ya', 'goodbye']\n",
    "    inquiries = ['how are you', 'are you good', 'how do you do']\n",
    "    if any(greeting in user_input for greeting in greetings):\n",
    "        return \"Hello! I am your chatbot, how can I help you today?\"\n",
    "    elif any(farewell in user_input for farewell in farewells):\n",
    "        return \"Goodbye! Have a nice day.\"\n",
    "    elif any(inquiry in user_input for inquiry in inquiries):\n",
    "        return \"I'm just a chatbot.\"\n",
    "    else:\n",
    "        return \"I'm sorry, can you please reformulate your speech?\"\n",
    "while True:\n",
    "    user_input = input(\"You: \")\n",
    "    if user_input.lower() == 'exit':\n",
    "        print(\"Chatbot: Goodbye!\")\n",
    "        break\n",
    "        \n",
    "    response = simple_chatbot(user_input)\n",
    "    print(\"Chatbot:\", response)"
   ]
  },
  {
   "cell_type": "code",
   "execution_count": null,
   "id": "d218771c-3fea-4206-8b6f-31fb0c99a762",
   "metadata": {},
   "outputs": [],
   "source": []
  }
 ],
 "metadata": {
  "kernelspec": {
   "display_name": "Python 3 (ipykernel)",
   "language": "python",
   "name": "python3"
  },
  "language_info": {
   "codemirror_mode": {
    "name": "ipython",
    "version": 3
   },
   "file_extension": ".py",
   "mimetype": "text/x-python",
   "name": "python",
   "nbconvert_exporter": "python",
   "pygments_lexer": "ipython3",
   "version": "3.11.5"
  }
 },
 "nbformat": 4,
 "nbformat_minor": 5
}
