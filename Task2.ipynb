{
 "cells": [
  {
   "cell_type": "code",
   "execution_count": 2,
   "id": "ae932a78-5bfd-4b02-9c4a-568f44195246",
   "metadata": {},
   "outputs": [
    {
     "name": "stdout",
     "output_type": "stream",
     "text": [
      "     \n",
      "     \n",
      "     \n",
      "\n"
     ]
    },
    {
     "name": "stdin",
     "output_type": "stream",
     "text": [
      "Enter row (0, 1, or 2):  0\n",
      "Enter column (0, 1, or 2):  0\n"
     ]
    },
    {
     "name": "stdout",
     "output_type": "stream",
     "text": [
      "AI player is thinking...\n",
      "O    \n",
      "  X  \n",
      "     \n",
      "\n"
     ]
    },
    {
     "name": "stdin",
     "output_type": "stream",
     "text": [
      "Enter row (0, 1, or 2):  2\n",
      "Enter column (0, 1, or 2):  0\n"
     ]
    },
    {
     "name": "stdout",
     "output_type": "stream",
     "text": [
      "AI player is thinking...\n",
      "O    \n",
      "X X  \n",
      "O    \n",
      "\n"
     ]
    },
    {
     "name": "stdin",
     "output_type": "stream",
     "text": [
      "Enter row (0, 1, or 2):  1\n",
      "Enter column (0, 1, or 2):  2\n"
     ]
    },
    {
     "name": "stdout",
     "output_type": "stream",
     "text": [
      "AI player is thinking...\n",
      "O X  \n",
      "X X O\n",
      "O    \n",
      "\n"
     ]
    },
    {
     "name": "stdin",
     "output_type": "stream",
     "text": [
      "Enter row (0, 1, or 2):  2\n",
      "Enter column (0, 1, or 2):  1\n"
     ]
    },
    {
     "name": "stdout",
     "output_type": "stream",
     "text": [
      "AI player is thinking...\n",
      "O X  \n",
      "X X O\n",
      "O O X\n",
      "\n"
     ]
    },
    {
     "name": "stdin",
     "output_type": "stream",
     "text": [
      "Enter row (0, 1, or 2):  0\n",
      "Enter column (0, 1, or 2):  2\n"
     ]
    },
    {
     "name": "stdout",
     "output_type": "stream",
     "text": [
      "O X O\n",
      "X X O\n",
      "O O X\n",
      "\n",
      "It's a tie!\n"
     ]
    }
   ],
   "source": [
    "import random\n",
    "#this function prints the tic-tac-toe board to the console \n",
    "def print_board(board):\n",
    "    for row in board:\n",
    "        print(\" \".join(row))\n",
    "    print()\n",
    "#this function checks if the player has won\n",
    "def check_winner(board, player):\n",
    "    for i in range(3):\n",
    "        if all(board[i][j] == player for j in range(3)) or all(board[j][i] == player for j in range(3)):\n",
    "            return True\n",
    "    if all(board[i][i] == player for i in range(3)) or all(board[i][2 - i] == player for i in range(3)):\n",
    "        return True\n",
    "    return False\n",
    "#This function checks if the board is full\n",
    "def is_board_full(board):\n",
    "    return all(board[i][j] != ' ' for i in range(3) for j in range(3))\n",
    "#This function return the list of Coordinates of the empty cells\n",
    "def get_empty_cells(board):\n",
    "    return [(i, j) for i in range(3) for j in range(3) if board[i][j] == ' ']\n",
    "#This function is the MinMax algorithm\n",
    "def minimax(board, depth, maximizing_player):\n",
    "    if check_winner(board, 'O'):\n",
    "        return -1\n",
    "    elif check_winner(board, 'X'):\n",
    "        return 1\n",
    "    elif is_board_full(board):\n",
    "        return 0\n",
    "\n",
    "    if maximizing_player:\n",
    "        max_eval = float('-inf')\n",
    "        for i, j in get_empty_cells(board):\n",
    "            board[i][j] = 'X'\n",
    "            eval = minimax(board, depth + 1, False)\n",
    "            board[i][j] = ' '\n",
    "            max_eval = max(max_eval, eval)\n",
    "        return max_eval\n",
    "    else:\n",
    "        min_eval = float('inf')\n",
    "        for i, j in get_empty_cells(board):\n",
    "            board[i][j] = 'O'\n",
    "            eval = minimax(board, depth + 1, True)\n",
    "            board[i][j] = ' '\n",
    "            min_eval = min(min_eval, eval)\n",
    "        return min_eval\n",
    "#This function determines the best move for the AI agent \n",
    "def best_move(board):\n",
    "    best_val = float('-inf')\n",
    "    move = None\n",
    "\n",
    "    for i, j in get_empty_cells(board):\n",
    "        board[i][j] = 'X'\n",
    "        move_val = minimax(board, 0, False)\n",
    "        board[i][j] = ' '\n",
    "\n",
    "        if move_val > best_val:\n",
    "            move = (i, j)\n",
    "            best_val = move_val\n",
    "\n",
    "    return move\n",
    "#This is the main\n",
    "def main():\n",
    "    board = [[' ' for _ in range(3)] for _ in range(3)]\n",
    "\n",
    "    while True:\n",
    "        print_board(board)\n",
    "\n",
    "        # Human player's move\n",
    "        row = int(input(\"Enter row (0, 1, or 2): \"))\n",
    "        col = int(input(\"Enter column (0, 1, or 2): \"))\n",
    "\n",
    "        if board[row][col] == ' ':\n",
    "            board[row][col] = 'O'\n",
    "        else:\n",
    "            print(\"Cell already occupied. Try again.\")\n",
    "            continue\n",
    "\n",
    "        # Check if human player wins\n",
    "        if check_winner(board, 'O'):\n",
    "            print_board(board)\n",
    "            print(\"You win! Congratulations!\")\n",
    "            break\n",
    "\n",
    "        # Check for a tie\n",
    "        if is_board_full(board):\n",
    "            print_board(board)\n",
    "            print(\"It's a tie!\")\n",
    "            break\n",
    "\n",
    "        # AI player's move\n",
    "        print(\"AI player is thinking...\")\n",
    "        ai_row, ai_col = best_move(board)\n",
    "        board[ai_row][ai_col] = 'X'\n",
    "\n",
    "        # Check if AI player wins\n",
    "        if check_winner(board, 'X'):\n",
    "            print_board(board)\n",
    "            print(\"AI player wins! Better luck next time.\")\n",
    "            break\n",
    "\n",
    "        # Check for a tie\n",
    "        if is_board_full(board):\n",
    "            print_board(board)\n",
    "            print(\"It's a tie!\")\n",
    "            break\n",
    "\n",
    "if __name__ == \"__main__\":\n",
    "    main()\n"
   ]
  },
  {
   "cell_type": "code",
   "execution_count": null,
   "id": "d8ff0065-4659-42d4-af27-4d58b18425fb",
   "metadata": {},
   "outputs": [],
   "source": []
  }
 ],
 "metadata": {
  "kernelspec": {
   "display_name": "Python 3 (ipykernel)",
   "language": "python",
   "name": "python3"
  },
  "language_info": {
   "codemirror_mode": {
    "name": "ipython",
    "version": 3
   },
   "file_extension": ".py",
   "mimetype": "text/x-python",
   "name": "python",
   "nbconvert_exporter": "python",
   "pygments_lexer": "ipython3",
   "version": "3.11.5"
  }
 },
 "nbformat": 4,
 "nbformat_minor": 5
}
